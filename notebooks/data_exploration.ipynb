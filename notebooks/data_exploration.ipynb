{
 "cells": [
  {
   "cell_type": "code",
   "execution_count": 1,
   "metadata": {},
   "outputs": [],
   "source": [
    "import pandas as pd\n",
    "import matplotlib.pyplot as plt\n",
    "import os\n",
    "import inspect\n",
    "import sys\n",
    "import string\n"
   ]
  },
  {
   "cell_type": "code",
   "execution_count": 3,
   "metadata": {},
   "outputs": [
    {
     "data": {
      "text/html": [
       "<div>\n",
       "<style scoped>\n",
       "    .dataframe tbody tr th:only-of-type {\n",
       "        vertical-align: middle;\n",
       "    }\n",
       "\n",
       "    .dataframe tbody tr th {\n",
       "        vertical-align: top;\n",
       "    }\n",
       "\n",
       "    .dataframe thead th {\n",
       "        text-align: right;\n",
       "    }\n",
       "</style>\n",
       "<table border=\"1\" class=\"dataframe\">\n",
       "  <thead>\n",
       "    <tr style=\"text-align: right;\">\n",
       "      <th></th>\n",
       "      <th>created_at</th>\n",
       "      <th>source</th>\n",
       "      <th>original_text</th>\n",
       "      <th>polarity</th>\n",
       "      <th>subjectivity</th>\n",
       "      <th>lang</th>\n",
       "      <th>favorite_count</th>\n",
       "      <th>retweet_count</th>\n",
       "      <th>original_author</th>\n",
       "      <th>followers_count</th>\n",
       "      <th>friends_count</th>\n",
       "      <th>possibly_sensitive</th>\n",
       "      <th>hashtags</th>\n",
       "      <th>user_mentions</th>\n",
       "      <th>place</th>\n",
       "    </tr>\n",
       "  </thead>\n",
       "  <tbody>\n",
       "    <tr>\n",
       "      <th>0</th>\n",
       "      <td>Fri Apr 22 22:20:18 +0000 2022</td>\n",
       "      <td>&lt;a href=\"http://twitter.com/download/android\" ...</td>\n",
       "      <td>RT @nikitheblogger: Irre: Annalena Baerbock sa...</td>\n",
       "      <td>0.0</td>\n",
       "      <td>0.0</td>\n",
       "      <td>de</td>\n",
       "      <td>355</td>\n",
       "      <td>355.0</td>\n",
       "      <td>McMc74078966</td>\n",
       "      <td>3</td>\n",
       "      <td>12</td>\n",
       "      <td>NaN</td>\n",
       "      <td>[]</td>\n",
       "      <td>[{'screen_name': 'nikitheblogger', 'name': 'Ne...</td>\n",
       "      <td>NaN</td>\n",
       "    </tr>\n",
       "    <tr>\n",
       "      <th>1</th>\n",
       "      <td>Fri Apr 22 22:19:16 +0000 2022</td>\n",
       "      <td>&lt;a href=\"http://twitter.com/download/android\" ...</td>\n",
       "      <td>RT @sagt_mit: Merkel schaffte es in 1 Jahr 1 M...</td>\n",
       "      <td>0.0</td>\n",
       "      <td>0.0</td>\n",
       "      <td>de</td>\n",
       "      <td>505</td>\n",
       "      <td>505.0</td>\n",
       "      <td>McMc74078966</td>\n",
       "      <td>3</td>\n",
       "      <td>12</td>\n",
       "      <td>NaN</td>\n",
       "      <td>[]</td>\n",
       "      <td>[{'screen_name': 'sagt_mit', 'name': 'Sie sagt...</td>\n",
       "      <td>NaN</td>\n",
       "    </tr>\n",
       "    <tr>\n",
       "      <th>2</th>\n",
       "      <td>Fri Apr 22 22:17:28 +0000 2022</td>\n",
       "      <td>&lt;a href=\"http://twitter.com/download/android\" ...</td>\n",
       "      <td>RT @Kryptonoun: @WRi007 Pharma in Lebensmittel...</td>\n",
       "      <td>0.0</td>\n",
       "      <td>0.0</td>\n",
       "      <td>de</td>\n",
       "      <td>4</td>\n",
       "      <td>4.0</td>\n",
       "      <td>McMc74078966</td>\n",
       "      <td>3</td>\n",
       "      <td>12</td>\n",
       "      <td>NaN</td>\n",
       "      <td>[]</td>\n",
       "      <td>[{'screen_name': 'Kryptonoun', 'name': 'Krypto...</td>\n",
       "      <td>NaN</td>\n",
       "    </tr>\n",
       "    <tr>\n",
       "      <th>3</th>\n",
       "      <td>Fri Apr 22 22:17:20 +0000 2022</td>\n",
       "      <td>&lt;a href=\"http://twitter.com/download/android\" ...</td>\n",
       "      <td>RT @WRi007: Die #Deutschen sind ein braves Vol...</td>\n",
       "      <td>0.0</td>\n",
       "      <td>0.0</td>\n",
       "      <td>de</td>\n",
       "      <td>332</td>\n",
       "      <td>332.0</td>\n",
       "      <td>McMc74078966</td>\n",
       "      <td>3</td>\n",
       "      <td>12</td>\n",
       "      <td>NaN</td>\n",
       "      <td>[{'text': 'Deutschen', 'indices': [16, 26]}, {...</td>\n",
       "      <td>[{'screen_name': 'WRi007', 'name': 'Wolfgang B...</td>\n",
       "      <td>NaN</td>\n",
       "    </tr>\n",
       "    <tr>\n",
       "      <th>4</th>\n",
       "      <td>Fri Apr 22 22:13:15 +0000 2022</td>\n",
       "      <td>&lt;a href=\"http://twitter.com/download/android\" ...</td>\n",
       "      <td>RT @RolandTichy: Baerbock verkündet mal so neb...</td>\n",
       "      <td>0.0</td>\n",
       "      <td>0.0</td>\n",
       "      <td>de</td>\n",
       "      <td>386</td>\n",
       "      <td>386.0</td>\n",
       "      <td>McMc74078966</td>\n",
       "      <td>3</td>\n",
       "      <td>12</td>\n",
       "      <td>NaN</td>\n",
       "      <td>[]</td>\n",
       "      <td>[{'screen_name': 'RolandTichy', 'name': 'Rolan...</td>\n",
       "      <td>NaN</td>\n",
       "    </tr>\n",
       "  </tbody>\n",
       "</table>\n",
       "</div>"
      ],
      "text/plain": [
       "                       created_at  \\\n",
       "0  Fri Apr 22 22:20:18 +0000 2022   \n",
       "1  Fri Apr 22 22:19:16 +0000 2022   \n",
       "2  Fri Apr 22 22:17:28 +0000 2022   \n",
       "3  Fri Apr 22 22:17:20 +0000 2022   \n",
       "4  Fri Apr 22 22:13:15 +0000 2022   \n",
       "\n",
       "                                              source  \\\n",
       "0  <a href=\"http://twitter.com/download/android\" ...   \n",
       "1  <a href=\"http://twitter.com/download/android\" ...   \n",
       "2  <a href=\"http://twitter.com/download/android\" ...   \n",
       "3  <a href=\"http://twitter.com/download/android\" ...   \n",
       "4  <a href=\"http://twitter.com/download/android\" ...   \n",
       "\n",
       "                                       original_text polarity  subjectivity  \\\n",
       "0  RT @nikitheblogger: Irre: Annalena Baerbock sa...      0.0           0.0   \n",
       "1  RT @sagt_mit: Merkel schaffte es in 1 Jahr 1 M...      0.0           0.0   \n",
       "2  RT @Kryptonoun: @WRi007 Pharma in Lebensmittel...      0.0           0.0   \n",
       "3  RT @WRi007: Die #Deutschen sind ein braves Vol...      0.0           0.0   \n",
       "4  RT @RolandTichy: Baerbock verkündet mal so neb...      0.0           0.0   \n",
       "\n",
       "  lang favorite_count  retweet_count original_author followers_count  \\\n",
       "0   de            355          355.0    McMc74078966               3   \n",
       "1   de            505          505.0    McMc74078966               3   \n",
       "2   de              4            4.0    McMc74078966               3   \n",
       "3   de            332          332.0    McMc74078966               3   \n",
       "4   de            386          386.0    McMc74078966               3   \n",
       "\n",
       "  friends_count possibly_sensitive  \\\n",
       "0            12                NaN   \n",
       "1            12                NaN   \n",
       "2            12                NaN   \n",
       "3            12                NaN   \n",
       "4            12                NaN   \n",
       "\n",
       "                                            hashtags  \\\n",
       "0                                                 []   \n",
       "1                                                 []   \n",
       "2                                                 []   \n",
       "3  [{'text': 'Deutschen', 'indices': [16, 26]}, {...   \n",
       "4                                                 []   \n",
       "\n",
       "                                       user_mentions place  \n",
       "0  [{'screen_name': 'nikitheblogger', 'name': 'Ne...   NaN  \n",
       "1  [{'screen_name': 'sagt_mit', 'name': 'Sie sagt...   NaN  \n",
       "2  [{'screen_name': 'Kryptonoun', 'name': 'Krypto...   NaN  \n",
       "3  [{'screen_name': 'WRi007', 'name': 'Wolfgang B...   NaN  \n",
       "4  [{'screen_name': 'RolandTichy', 'name': 'Rolan...   NaN  "
      ]
     },
     "execution_count": 3,
     "metadata": {},
     "output_type": "execute_result"
    }
   ],
   "source": [
    "processed_tweets = pd.read_csv('../data/processed_tweet_data.csv')\n",
    "processed_tweets.head()"
   ]
  },
  {
   "cell_type": "markdown",
   "metadata": {},
   "source": [
    "### Data Exploration\n",
    "* Look at the columns in the data\n",
    "* Look at the type of data in the columns\n",
    "* Check if there are any missing values\n"
   ]
  },
  {
   "cell_type": "code",
   "execution_count": 4,
   "metadata": {},
   "outputs": [
    {
     "data": {
      "text/plain": [
       "Index(['created_at', 'source', 'original_text', 'polarity', 'subjectivity',\n",
       "       'lang', 'favorite_count', 'retweet_count', 'original_author',\n",
       "       'followers_count', 'friends_count', 'possibly_sensitive', 'hashtags',\n",
       "       'user_mentions', 'place'],\n",
       "      dtype='object')"
      ]
     },
     "execution_count": 4,
     "metadata": {},
     "output_type": "execute_result"
    }
   ],
   "source": [
    "processed_tweets.columns"
   ]
  },
  {
   "cell_type": "code",
   "execution_count": 5,
   "metadata": {},
   "outputs": [
    {
     "name": "stdout",
     "output_type": "stream",
     "text": [
      "<class 'pandas.core.frame.DataFrame'>\n",
      "RangeIndex: 24637 entries, 0 to 24636\n",
      "Data columns (total 15 columns):\n",
      " #   Column              Non-Null Count  Dtype  \n",
      "---  ------              --------------  -----  \n",
      " 0   created_at          24637 non-null  object \n",
      " 1   source              24633 non-null  object \n",
      " 2   original_text       24633 non-null  object \n",
      " 3   polarity            24625 non-null  object \n",
      " 4   subjectivity        24625 non-null  float64\n",
      " 5   lang                24625 non-null  object \n",
      " 6   favorite_count      24625 non-null  object \n",
      " 7   retweet_count       24625 non-null  float64\n",
      " 8   original_author     24625 non-null  object \n",
      " 9   followers_count     24618 non-null  object \n",
      " 10  friends_count       24625 non-null  object \n",
      " 11  possibly_sensitive  9982 non-null   object \n",
      " 12  hashtags            24624 non-null  object \n",
      " 13  user_mentions       24617 non-null  object \n",
      " 14  place               15724 non-null  object \n",
      "dtypes: float64(2), object(13)\n",
      "memory usage: 2.8+ MB\n"
     ]
    }
   ],
   "source": [
    "processed_tweets.info()"
   ]
  },
  {
   "cell_type": "markdown",
   "metadata": {},
   "source": [
    "### Check if there are any missing values in the columns"
   ]
  },
  {
   "cell_type": "code",
   "execution_count": 6,
   "metadata": {},
   "outputs": [
    {
     "name": "stdout",
     "output_type": "stream",
     "text": [
      "The number of missing value(s) based on columns:\n",
      "created_at                0\n",
      "source                    4\n",
      "original_text             4\n",
      "polarity                 12\n",
      "subjectivity             12\n",
      "lang                     12\n",
      "favorite_count           12\n",
      "retweet_count            12\n",
      "original_author          12\n",
      "followers_count          19\n",
      "friends_count            12\n",
      "possibly_sensitive    14655\n",
      "hashtags                 13\n",
      "user_mentions            20\n",
      "place                  8913\n",
      "dtype: int64\n"
     ]
    }
   ],
   "source": [
    "print(\"The number of missing value(s) based on columns:\\n{}\".format(processed_tweets.isnull().sum()))"
   ]
  },
  {
   "cell_type": "code",
   "execution_count": 7,
   "metadata": {},
   "outputs": [
    {
     "name": "stdout",
     "output_type": "stream",
     "text": [
      "The number of missing value(s): 23712\n"
     ]
    }
   ],
   "source": [
    "print(\"The number of missing value(s): {}\".format(processed_tweets.isnull().sum().sum()))\n"
   ]
  },
  {
   "cell_type": "code",
   "execution_count": 8,
   "metadata": {},
   "outputs": [
    {
     "name": "stdout",
     "output_type": "stream",
     "text": [
      "Columns having missing value(s):Index(['source', 'original_text', 'polarity', 'subjectivity', 'lang',\n",
      "       'favorite_count', 'retweet_count', 'original_author', 'followers_count',\n",
      "       'friends_count', 'possibly_sensitive', 'hashtags', 'user_mentions',\n",
      "       'place'],\n",
      "      dtype='object')\n"
     ]
    }
   ],
   "source": [
    "print(\"Columns having missing value(s):{}\".format(processed_tweets.columns[processed_tweets.isnull().any()]))"
   ]
  },
  {
   "cell_type": "markdown",
   "metadata": {},
   "source": [
    "### Plot of the missing values in the columns"
   ]
  },
  {
   "cell_type": "code",
   "execution_count": 11,
   "metadata": {},
   "outputs": [],
   "source": [
    "missing_values_count = processed_tweets.isnull().sum()"
   ]
  },
  {
   "cell_type": "code",
   "execution_count": 12,
   "metadata": {},
   "outputs": [
    {
     "data": {
      "text/plain": [
       "<AxesSubplot:>"
      ]
     },
     "execution_count": 12,
     "metadata": {},
     "output_type": "execute_result"
    },
    {
     "data": {
      "image/png": "[encoded data removed]",
      "text/plain": [
       "<Figure size 432x288 with 1 Axes>"
      ]
     },
     "metadata": {
      "needs_background": "light"
     },
     "output_type": "display_data"
    }
   ],
   "source": [
    "missing_values_count.plot(kind='bar')"
   ]
  },
  {
   "cell_type": "markdown",
   "metadata": {},
   "source": [
    "### Data Cleaning"
   ]
  },
  {
   "cell_type": "code",
   "execution_count": 9,
   "metadata": {},
   "outputs": [],
   "source": [
    "sys.path.append('../')"
   ]
  },
  {
   "cell_type": "code",
   "execution_count": 13,
   "metadata": {},
   "outputs": [],
   "source": [
    "from clean_tweets_dataframe import Clean_Tweets"
   ]
  },
  {
   "cell_type": "code",
   "execution_count": 14,
   "metadata": {},
   "outputs": [],
   "source": [
    "# Fill missing values \n",
    "processed_tweets = processed_tweets.fillna(\"\")"
   ]
  },
  {
   "cell_type": "code",
   "execution_count": 15,
   "metadata": {},
   "outputs": [],
   "source": [
    "import re\n",
    "\n",
    "def process_tweet(tweet):\n",
    "    \"\"\"Process tweet function.\n",
    "    Input:\n",
    "        tweet: a string containing a tweet\n",
    "    Output:\n",
    "        tweet: cleaned tweet\n",
    "\n",
    "    \"\"\"\n",
    "    # remove hashtags\n",
    "    tweet = re.sub('(#[A-Za-z]+[A-Za-z0-9-_]+)', '', tweet)\n",
    "    # remove @ handles\n",
    "    tweet = re.sub('(@[A-Za-z]+[A-Za-z0-9-_]+)', '', tweet)\n",
    "    # remove old style retweet text \"RT\"\n",
    "    tweet = re.sub(r'^RT[\\s]+', '', tweet)\n",
    "    # remove hyperlinks    \n",
    "    tweet = re.sub(r'https?://[^\\s\\n\\r]+', '', tweet)\n",
    "\n",
    "    return tweet"
   ]
  },
  {
   "cell_type": "code",
   "execution_count": null,
   "metadata": {},
   "outputs": [],
   "source": [
    "def drop_null(self)->pd.DataFrame:\n",
    "    # removed columns containing null values of more than 20%\n",
    "    row,col = df.shape\n",
    "    self.df.dropna(axis='columns',thresh=row*0.8,inplace=True)"
   ]
  },
  {
   "cell_type": "code",
   "execution_count": 16,
   "metadata": {},
   "outputs": [],
   "source": [
    "def data_cleaner(df: pd.DataFrame, save=False) -> pd.DataFrame:\n",
    "    \"\"\"Data Cleaner Function.\n",
    "    Input:\n",
    "        df: Pandas Dataframe\n",
    "        save: Boolean value\n",
    "    Output:\n",
    "        df: Cleaned Dataframe\n",
    "\n",
    "    \"\"\"\n",
    "    Tweet_cleaner = Clean_Tweets(df)\n",
    "    df = Tweet_cleaner.remove_non_english_tweets(df)\n",
    "    df = Tweet_cleaner.drop_duplicate(df)\n",
    "    df = Tweet_cleaner.drop_unwanted_column(df)\n",
    "    df = Tweet_cleaner.drop_unwanted_column(df)\n",
    "    df = Tweet_cleaner.convert_to_datetime(df)\n",
    "    df = Tweet_cleaner.convert_to_numbers(df)\n",
    "    df['clean_text'] = df['original_text'].apply(process_tweet)\n",
    "    df['clean_text'] =  df['clean_text'].astype(str)\n",
    "    df['clean_text'] = df['clean_text'].apply(lambda x: x.lower())\n",
    "    df['clean_text']= df['clean_text'].apply(lambda x: x.translate(str.maketrans(' ', ' ', string.punctuation)))\n",
    "\n",
    "\n",
    "    if save:\n",
    "        try: \n",
    "            df.to_csv('../data/cleaned_tweet_data.csv', index=False)\n",
    "            \n",
    "            print('File Successfully Saved.!!!')\n",
    "        \n",
    "        except Exception as e:\n",
    "            print(\"Save failed...\")\n",
    "            print(e)\n",
    "    return df"
   ]
  },
  {
   "cell_type": "code",
   "execution_count": 17,
   "metadata": {},
   "outputs": [
    {
     "name": "stdout",
     "output_type": "stream",
     "text": [
      "Automation in Action...!!!\n",
      "File Successfully Saved.!!!\n"
     ]
    }
   ],
   "source": [
    "cleaned_df = data_cleaner(processed_tweets, save=True)"
   ]
  },
  {
   "cell_type": "code",
   "execution_count": 18,
   "metadata": {},
   "outputs": [
    {
     "name": "stdout",
     "output_type": "stream",
     "text": [
      "<class 'pandas.core.frame.DataFrame'>\n",
      "Int64Index: 16367 entries, 0 to 16464\n",
      "Data columns (total 16 columns):\n",
      " #   Column              Non-Null Count  Dtype              \n",
      "---  ------              --------------  -----              \n",
      " 0   created_at          16367 non-null  datetime64[ns, UTC]\n",
      " 1   source              16367 non-null  object             \n",
      " 2   original_text       16367 non-null  object             \n",
      " 3   polarity            16367 non-null  float64            \n",
      " 4   subjectivity        16367 non-null  float64            \n",
      " 5   lang                16367 non-null  object             \n",
      " 6   favorite_count      16367 non-null  int64              \n",
      " 7   retweet_count       16367 non-null  float64            \n",
      " 8   original_author     16367 non-null  object             \n",
      " 9   followers_count     16367 non-null  int64              \n",
      " 10  friends_count       16367 non-null  int64              \n",
      " 11  possibly_sensitive  16367 non-null  object             \n",
      " 12  hashtags            16367 non-null  object             \n",
      " 13  user_mentions       16367 non-null  object             \n",
      " 14  place               16367 non-null  object             \n",
      " 15  clean_text          16367 non-null  object             \n",
      "dtypes: datetime64[ns, UTC](1), float64(3), int64(3), object(9)\n",
      "memory usage: 2.1+ MB\n"
     ]
    }
   ],
   "source": [
    "cleaned_df.info()"
   ]
  },
  {
   "cell_type": "code",
   "execution_count": 22,
   "metadata": {},
   "outputs": [
    {
     "data": {
      "text/plain": [
       "\"[{'text': 'Fed', 'indices': [56, 60]}, {'text': 'FederalReserve', 'indices': [73, 88]}, {'text': 'economy', 'indices': [89, 97]}, {'text': 'markets', 'indices': [98, 106]}]\""
      ]
     },
     "execution_count": 22,
     "metadata": {},
     "output_type": "execute_result"
    }
   ],
   "source": [
    "cleaned_df['hashtags'][123]"
   ]
  },
  {
   "cell_type": "markdown",
   "metadata": {},
   "source": [
    "### Most frequent words in the data"
   ]
  },
  {
   "cell_type": "code",
   "execution_count": 61,
   "metadata": {},
   "outputs": [
    {
     "data": {
      "text/html": [
       "<div>\n",
       "<style scoped>\n",
       "    .dataframe tbody tr th:only-of-type {\n",
       "        vertical-align: middle;\n",
       "    }\n",
       "\n",
       "    .dataframe tbody tr th {\n",
       "        vertical-align: top;\n",
       "    }\n",
       "\n",
       "    .dataframe thead th {\n",
       "        text-align: right;\n",
       "    }\n",
       "</style>\n",
       "<table border=\"1\" class=\"dataframe\">\n",
       "  <thead>\n",
       "    <tr style=\"text-align: right;\">\n",
       "      <th></th>\n",
       "      <th>created_at</th>\n",
       "      <th>source</th>\n",
       "      <th>original_text</th>\n",
       "      <th>polarity</th>\n",
       "      <th>subjectivity</th>\n",
       "      <th>lang</th>\n",
       "      <th>favorite_count</th>\n",
       "      <th>retweet_count</th>\n",
       "      <th>original_author</th>\n",
       "      <th>followers_count</th>\n",
       "      <th>friends_count</th>\n",
       "      <th>possibly_sensitive</th>\n",
       "      <th>hashtags</th>\n",
       "      <th>user_mentions</th>\n",
       "      <th>place</th>\n",
       "      <th>clean_text</th>\n",
       "    </tr>\n",
       "  </thead>\n",
       "  <tbody>\n",
       "    <tr>\n",
       "      <th>0</th>\n",
       "      <td>2022-04-22 22:17:05+00:00</td>\n",
       "      <td>&lt;a href=\"http://twitter.com/download/android\" ...</td>\n",
       "      <td>RT @NorthstarCharts: The 10-year yield is tell...</td>\n",
       "      <td>0.16</td>\n",
       "      <td>0.540000</td>\n",
       "      <td>en</td>\n",
       "      <td>43</td>\n",
       "      <td>43.0</td>\n",
       "      <td>davideiacovozzi</td>\n",
       "      <td>18</td>\n",
       "      <td>55</td>\n",
       "      <td></td>\n",
       "      <td>[{'text': 'gold', 'indices': [116, 121]}, {'te...</td>\n",
       "      <td>[{'screen_name': 'NorthstarCharts', 'name': 'N...</td>\n",
       "      <td></td>\n",
       "      <td>the 10year yield is telling us that theres a ...</td>\n",
       "    </tr>\n",
       "    <tr>\n",
       "      <th>1</th>\n",
       "      <td>2022-04-22 13:44:53+00:00</td>\n",
       "      <td>&lt;a href=\"http://twitter.com/download/android\" ...</td>\n",
       "      <td>RT @MichaelAArouet: German 10y mortgage rate w...</td>\n",
       "      <td>0.15</td>\n",
       "      <td>0.175000</td>\n",
       "      <td>en</td>\n",
       "      <td>32</td>\n",
       "      <td>32.0</td>\n",
       "      <td>davideiacovozzi</td>\n",
       "      <td>18</td>\n",
       "      <td>55</td>\n",
       "      <td></td>\n",
       "      <td>[]</td>\n",
       "      <td>[{'screen_name': 'MichaelAArouet', 'name': 'Mi...</td>\n",
       "      <td></td>\n",
       "      <td>german 10y mortgage rate went from 08 to 250 ...</td>\n",
       "    </tr>\n",
       "    <tr>\n",
       "      <th>2</th>\n",
       "      <td>2022-04-22 06:10:34+00:00</td>\n",
       "      <td>&lt;a href=\"http://twitter.com/download/android\" ...</td>\n",
       "      <td>RT @goldseek: When? https://t.co/kO2FfHKaZg</td>\n",
       "      <td>0.00</td>\n",
       "      <td>0.000000</td>\n",
       "      <td>en</td>\n",
       "      <td>26</td>\n",
       "      <td>26.0</td>\n",
       "      <td>davideiacovozzi</td>\n",
       "      <td>18</td>\n",
       "      <td>55</td>\n",
       "      <td>False</td>\n",
       "      <td>[]</td>\n",
       "      <td>[{'screen_name': 'goldseek', 'name': 'Peter ⚒ ...</td>\n",
       "      <td></td>\n",
       "      <td>when</td>\n",
       "    </tr>\n",
       "    <tr>\n",
       "      <th>3</th>\n",
       "      <td>2022-04-21 17:22:09+00:00</td>\n",
       "      <td>&lt;a href=\"http://twitter.com/download/android\" ...</td>\n",
       "      <td>RT @charliebilello: The 30-year mortgage rate ...</td>\n",
       "      <td>0.00</td>\n",
       "      <td>0.183333</td>\n",
       "      <td>en</td>\n",
       "      <td>213</td>\n",
       "      <td>213.0</td>\n",
       "      <td>davideiacovozzi</td>\n",
       "      <td>18</td>\n",
       "      <td>55</td>\n",
       "      <td></td>\n",
       "      <td>[]</td>\n",
       "      <td>[{'screen_name': 'charliebilello', 'name': 'Ch...</td>\n",
       "      <td></td>\n",
       "      <td>the 30year mortgage rate in the us rises to 5...</td>\n",
       "    </tr>\n",
       "    <tr>\n",
       "      <th>4</th>\n",
       "      <td>2022-04-21 10:32:26+00:00</td>\n",
       "      <td>&lt;a href=\"http://twitter.com/download/android\" ...</td>\n",
       "      <td>RT @biancoresearch: Rates rise until something...</td>\n",
       "      <td>-0.40</td>\n",
       "      <td>0.400000</td>\n",
       "      <td>en</td>\n",
       "      <td>417</td>\n",
       "      <td>417.0</td>\n",
       "      <td>davideiacovozzi</td>\n",
       "      <td>18</td>\n",
       "      <td>55</td>\n",
       "      <td>False</td>\n",
       "      <td>[]</td>\n",
       "      <td>[{'screen_name': 'biancoresearch', 'name': 'Ji...</td>\n",
       "      <td></td>\n",
       "      <td>rates rise until something breaks … is anythi...</td>\n",
       "    </tr>\n",
       "  </tbody>\n",
       "</table>\n",
       "</div>"
      ],
      "text/plain": [
       "                 created_at  \\\n",
       "0 2022-04-22 22:17:05+00:00   \n",
       "1 2022-04-22 13:44:53+00:00   \n",
       "2 2022-04-22 06:10:34+00:00   \n",
       "3 2022-04-21 17:22:09+00:00   \n",
       "4 2022-04-21 10:32:26+00:00   \n",
       "\n",
       "                                              source  \\\n",
       "0  <a href=\"http://twitter.com/download/android\" ...   \n",
       "1  <a href=\"http://twitter.com/download/android\" ...   \n",
       "2  <a href=\"http://twitter.com/download/android\" ...   \n",
       "3  <a href=\"http://twitter.com/download/android\" ...   \n",
       "4  <a href=\"http://twitter.com/download/android\" ...   \n",
       "\n",
       "                                       original_text  polarity  subjectivity  \\\n",
       "0  RT @NorthstarCharts: The 10-year yield is tell...      0.16      0.540000   \n",
       "1  RT @MichaelAArouet: German 10y mortgage rate w...      0.15      0.175000   \n",
       "2        RT @goldseek: When? https://t.co/kO2FfHKaZg      0.00      0.000000   \n",
       "3  RT @charliebilello: The 30-year mortgage rate ...      0.00      0.183333   \n",
       "4  RT @biancoresearch: Rates rise until something...     -0.40      0.400000   \n",
       "\n",
       "  lang  favorite_count  retweet_count  original_author  followers_count  \\\n",
       "0   en              43           43.0  davideiacovozzi               18   \n",
       "1   en              32           32.0  davideiacovozzi               18   \n",
       "2   en              26           26.0  davideiacovozzi               18   \n",
       "3   en             213          213.0  davideiacovozzi               18   \n",
       "4   en             417          417.0  davideiacovozzi               18   \n",
       "\n",
       "   friends_count possibly_sensitive  \\\n",
       "0             55                      \n",
       "1             55                      \n",
       "2             55              False   \n",
       "3             55                      \n",
       "4             55              False   \n",
       "\n",
       "                                            hashtags  \\\n",
       "0  [{'text': 'gold', 'indices': [116, 121]}, {'te...   \n",
       "1                                                 []   \n",
       "2                                                 []   \n",
       "3                                                 []   \n",
       "4                                                 []   \n",
       "\n",
       "                                       user_mentions place  \\\n",
       "0  [{'screen_name': 'NorthstarCharts', 'name': 'N...         \n",
       "1  [{'screen_name': 'MichaelAArouet', 'name': 'Mi...         \n",
       "2  [{'screen_name': 'goldseek', 'name': 'Peter ⚒ ...         \n",
       "3  [{'screen_name': 'charliebilello', 'name': 'Ch...         \n",
       "4  [{'screen_name': 'biancoresearch', 'name': 'Ji...         \n",
       "\n",
       "                                          clean_text  \n",
       "0   the 10year yield is telling us that theres a ...  \n",
       "1   german 10y mortgage rate went from 08 to 250 ...  \n",
       "2                                              when   \n",
       "3   the 30year mortgage rate in the us rises to 5...  \n",
       "4   rates rise until something breaks … is anythi...  "
      ]
     },
     "execution_count": 61,
     "metadata": {},
     "output_type": "execute_result"
    }
   ],
   "source": [
    "cleaned_df.head()"
   ]
  },
  {
   "cell_type": "code",
   "execution_count": 59,
   "metadata": {},
   "outputs": [
    {
     "data": {
      "text/html": [
       "<div>\n",
       "<style scoped>\n",
       "    .dataframe tbody tr th:only-of-type {\n",
       "        vertical-align: middle;\n",
       "    }\n",
       "\n",
       "    .dataframe tbody tr th {\n",
       "        vertical-align: top;\n",
       "    }\n",
       "\n",
       "    .dataframe thead th {\n",
       "        text-align: right;\n",
       "    }\n",
       "</style>\n",
       "<table border=\"1\" class=\"dataframe\">\n",
       "  <thead>\n",
       "    <tr style=\"text-align: right;\">\n",
       "      <th></th>\n",
       "      <th>word</th>\n",
       "    </tr>\n",
       "  </thead>\n",
       "  <tbody>\n",
       "    <tr>\n",
       "      <th>0</th>\n",
       "      <td></td>\n",
       "    </tr>\n",
       "    <tr>\n",
       "      <th>1</th>\n",
       "      <td>the</td>\n",
       "    </tr>\n",
       "    <tr>\n",
       "      <th>2</th>\n",
       "      <td>10year</td>\n",
       "    </tr>\n",
       "    <tr>\n",
       "      <th>3</th>\n",
       "      <td>yield</td>\n",
       "    </tr>\n",
       "    <tr>\n",
       "      <th>4</th>\n",
       "      <td>is</td>\n",
       "    </tr>\n",
       "    <tr>\n",
       "      <th>...</th>\n",
       "      <td>...</td>\n",
       "    </tr>\n",
       "    <tr>\n",
       "      <th>269576</th>\n",
       "      <td>even</td>\n",
       "    </tr>\n",
       "    <tr>\n",
       "      <th>269577</th>\n",
       "      <td>an</td>\n",
       "    </tr>\n",
       "    <tr>\n",
       "      <th>269578</th>\n",
       "      <td>mla</td>\n",
       "    </tr>\n",
       "    <tr>\n",
       "      <th>269579</th>\n",
       "      <td>talks</td>\n",
       "    </tr>\n",
       "    <tr>\n",
       "      <th>269580</th>\n",
       "      <td>bullsh…</td>\n",
       "    </tr>\n",
       "  </tbody>\n",
       "</table>\n",
       "<p>269581 rows × 1 columns</p>\n",
       "</div>"
      ],
      "text/plain": [
       "           word\n",
       "0              \n",
       "1           the\n",
       "2        10year\n",
       "3         yield\n",
       "4            is\n",
       "...         ...\n",
       "269576     even\n",
       "269577       an\n",
       "269578      mla\n",
       "269579    talks\n",
       "269580  bullsh…\n",
       "\n",
       "[269581 rows x 1 columns]"
      ]
     },
     "execution_count": 59,
     "metadata": {},
     "output_type": "execute_result"
    }
   ],
   "source": [
    "flattened_words_df = pd.DataFrame(\n",
    "    [word for words_list in cleaned_df.clean_text\n",
    "    for word in words_list.split(' ')],\n",
    "    columns=['word'])\n",
    "\n",
    "flattened_words_df"
   ]
  },
  {
   "cell_type": "code",
   "execution_count": 54,
   "metadata": {},
   "outputs": [
    {
     "data": {
      "text/plain": [
       "<AxesSubplot:>"
      ]
     },
     "execution_count": 54,
     "metadata": {},
     "output_type": "execute_result"
    },
    {
     "data": {
      "image/png": "[encoded data removed]",
      "text/plain": [
       "<Figure size 432x288 with 1 Axes>"
      ]
     },
     "metadata": {
      "needs_background": "light"
     },
     "output_type": "display_data"
    }
   ],
   "source": [
    "flattened_words_df.word.value_counts()[:20].plot(kind='bar')"
   ]
  },
  {
   "cell_type": "markdown",
   "metadata": {},
   "source": [
    "### Common hashtags"
   ]
  },
  {
   "cell_type": "code",
   "execution_count": 60,
   "metadata": {},
   "outputs": [
    {
     "data": {
      "text/html": [
       "<div>\n",
       "<style scoped>\n",
       "    .dataframe tbody tr th:only-of-type {\n",
       "        vertical-align: middle;\n",
       "    }\n",
       "\n",
       "    .dataframe tbody tr th {\n",
       "        vertical-align: top;\n",
       "    }\n",
       "\n",
       "    .dataframe thead th {\n",
       "        text-align: right;\n",
       "    }\n",
       "</style>\n",
       "<table border=\"1\" class=\"dataframe\">\n",
       "  <thead>\n",
       "    <tr style=\"text-align: right;\">\n",
       "      <th></th>\n",
       "      <th>hashtag</th>\n",
       "    </tr>\n",
       "  </thead>\n",
       "  <tbody>\n",
       "    <tr>\n",
       "      <th>0</th>\n",
       "      <td>[{'text': 'gold'</td>\n",
       "    </tr>\n",
       "    <tr>\n",
       "      <th>1</th>\n",
       "      <td>'indices': [116</td>\n",
       "    </tr>\n",
       "    <tr>\n",
       "      <th>2</th>\n",
       "      <td>121]}</td>\n",
       "    </tr>\n",
       "    <tr>\n",
       "      <th>3</th>\n",
       "      <td>{'text': 'silver'</td>\n",
       "    </tr>\n",
       "    <tr>\n",
       "      <th>4</th>\n",
       "      <td>'indices': [122</td>\n",
       "    </tr>\n",
       "    <tr>\n",
       "      <th>...</th>\n",
       "      <td>...</td>\n",
       "    </tr>\n",
       "    <tr>\n",
       "      <th>47588</th>\n",
       "      <td>[]</td>\n",
       "    </tr>\n",
       "    <tr>\n",
       "      <th>47589</th>\n",
       "      <td>[]</td>\n",
       "    </tr>\n",
       "    <tr>\n",
       "      <th>47590</th>\n",
       "      <td>[]</td>\n",
       "    </tr>\n",
       "    <tr>\n",
       "      <th>47591</th>\n",
       "      <td>[]</td>\n",
       "    </tr>\n",
       "    <tr>\n",
       "      <th>47592</th>\n",
       "      <td>[]</td>\n",
       "    </tr>\n",
       "  </tbody>\n",
       "</table>\n",
       "<p>47593 rows × 1 columns</p>\n",
       "</div>"
      ],
      "text/plain": [
       "                  hashtag\n",
       "0        [{'text': 'gold'\n",
       "1         'indices': [116\n",
       "2                   121]}\n",
       "3       {'text': 'silver'\n",
       "4         'indices': [122\n",
       "...                   ...\n",
       "47588                  []\n",
       "47589                  []\n",
       "47590                  []\n",
       "47591                  []\n",
       "47592                  []\n",
       "\n",
       "[47593 rows x 1 columns]"
      ]
     },
     "execution_count": 60,
     "metadata": {},
     "output_type": "execute_result"
    }
   ],
   "source": [
    "flattened_hashtags_df = pd.DataFrame(\n",
    "    [hashtag for hashtags_list in cleaned_df.hashtags\n",
    "    for hashtag in hashtags_list.split(',')],\n",
    "    columns=['hashtag'])\n",
    "\n",
    "flattened_hashtags_df.drop(flattened_hashtags_df[flattened_hashtags_df['hashtag'] == \"\"].index, inplace=True)\n",
    "flattened_hashtags_df.reset_index(drop=True, inplace=True)\n",
    "flattened_hashtags_df"
   ]
  },
  {
   "cell_type": "code",
   "execution_count": null,
   "metadata": {},
   "outputs": [],
   "source": []
  }
 ],
 "metadata": {
  "interpreter": {
   "hash": "4013b6f8acbae43f7c648f99fd383e8ec3d5fcc3a746a9453def012ca3c2930d"
  },
  "kernelspec": {
   "display_name": "Python 3 (ipykernel)",
   "language": "python",
   "name": "python3"
  },
  "language_info": {
   "codemirror_mode": {
    "name": "ipython",
    "version": 3
   },
   "file_extension": ".py",
   "mimetype": "text/x-python",
   "name": "python",
   "nbconvert_exporter": "python",
   "pygments_lexer": "ipython3",
   "version": "3.9.7"
  }
 },
 "nbformat": 4,
 "nbformat_minor": 4
}
